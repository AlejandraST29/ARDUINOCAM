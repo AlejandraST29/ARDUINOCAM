{
  "cells": [
    {
      "cell_type": "markdown",
      "metadata": {
        "id": "view-in-github",
        "colab_type": "text"
      },
      "source": [
        "<a href=\"https://colab.research.google.com/github/AlejandraST29/ARDUINOCAM/blob/main/tareas.ipynb\" target=\"_parent\"><img src=\"https://colab.research.google.com/assets/colab-badge.svg\" alt=\"Open In Colab\"/></a>"
      ]
    },
    {
      "cell_type": "code",
      "execution_count": 4,
      "metadata": {
        "colab": {
          "base_uri": "https://localhost:8080/"
        },
        "id": "eV2O2vN9sKUS",
        "outputId": "df13464d-9b26-411e-ffb9-0c48cdb8f0b0"
      },
      "outputs": [
        {
          "output_type": "stream",
          "name": "stdout",
          "text": [
            "\n",
            "Menu:\n",
            "1. Agregar tarea\n",
            "2. Marcar tarea como completada\n",
            "3. Mostrar tareas\n",
            "4. Salir\n",
            "Seleccione una opción: 1\n",
            "Ingrese la descripción de la tarea: \"Capacitar al Cenace\"\n",
            "\n",
            "Menu:\n",
            "1. Agregar tarea\n",
            "2. Marcar tarea como completada\n",
            "3. Mostrar tareas\n",
            "4. Salir\n",
            "Seleccione una opción: 1\n",
            "Ingrese la descripción de la tarea: \"Tomar cafe\"\n",
            "\n",
            "Menu:\n",
            "1. Agregar tarea\n",
            "2. Marcar tarea como completada\n",
            "3. Mostrar tareas\n",
            "4. Salir\n",
            "Seleccione una opción: 3\n",
            "Tareas pendientes:\n",
            "1. \"Capacitar al Cenace\"\n",
            "2. \"Tomar cafe\"\n",
            "\n",
            "Tareas completadas:\n",
            "\n",
            "Menu:\n",
            "1. Agregar tarea\n",
            "2. Marcar tarea como completada\n",
            "3. Mostrar tareas\n",
            "4. Salir\n",
            "Seleccione una opción: 2\n",
            "Tareas pendientes:\n",
            "1. \"Capacitar al Cenace\"\n",
            "2. \"Tomar cafe\"\n",
            "\n",
            "Tareas completadas:\n",
            "Ingrese el número de tarea que desea marcar como completada: 2\n",
            "\n",
            "Menu:\n",
            "1. Agregar tarea\n",
            "2. Marcar tarea como completada\n",
            "3. Mostrar tareas\n",
            "4. Salir\n",
            "Seleccione una opción: 3\n",
            "Tareas pendientes:\n",
            "1. \"Capacitar al Cenace\"\n",
            "\n",
            "Tareas completadas:\n",
            "1. \"Tomar cafe\"\n",
            "\n",
            "Menu:\n",
            "1. Agregar tarea\n",
            "2. Marcar tarea como completada\n",
            "3. Mostrar tareas\n",
            "4. Salir\n",
            "Seleccione una opción: 4\n",
            "¡Hasta luego!\n"
          ]
        }
      ],
      "source": [
        "# Función para agregar una nueva tarea a la lista de tareas pendientes\n",
        "def agregar_tarea(tareas_pendientes, descripcion):\n",
        "    tareas_pendientes.append({\"descripcion\": descripcion, \"completada\": False})\n",
        "\n",
        "# Función para marcar una tarea como completada\n",
        "def completar_tarea(tareas_pendientes, tareas_completadas, indice):\n",
        "    tarea = tareas_pendientes.pop(indice)\n",
        "    tarea[\"completada\"] = True\n",
        "    tareas_completadas.append(tarea)\n",
        "\n",
        "# Función para mostrar las tareas pendientes y completadas\n",
        "def mostrar_tareas(tareas_pendientes, tareas_completadas):\n",
        "    print(\"Tareas pendientes:\")\n",
        "    for idx, tarea in enumerate(tareas_pendientes):\n",
        "        print(f\"{idx + 1}. {tarea['descripcion']}\")\n",
        "    print(\"\\nTareas completadas:\")\n",
        "    for idx, tarea in enumerate(tareas_completadas):\n",
        "        print(f\"{idx + 1}. {tarea['descripcion']}\")\n",
        "\n",
        "# Función principal del programa\n",
        "def main():\n",
        "    tareas_pendientes = []\n",
        "    tareas_completadas = []\n",
        "\n",
        "    while True:\n",
        "        print(\"\\nMenu:\")\n",
        "        print(\"1. Agregar tarea\")\n",
        "        print(\"2. Marcar tarea como completada\")\n",
        "        print(\"3. Mostrar tareas\")\n",
        "        print(\"4. Salir\")\n",
        "        opcion = input(\"Seleccione una opción: \")\n",
        "\n",
        "        if opcion == \"1\":\n",
        "            descripcion = input(\"Ingrese la descripción de la tarea: \")\n",
        "            agregar_tarea(tareas_pendientes, descripcion)\n",
        "        elif opcion == \"2\":\n",
        "            mostrar_tareas(tareas_pendientes, tareas_completadas)\n",
        "            indice = int(input(\"Ingrese el número de tarea que desea marcar como completada: \")) - 1\n",
        "            completar_tarea(tareas_pendientes, tareas_completadas, indice)\n",
        "        elif opcion == \"3\":\n",
        "            mostrar_tareas(tareas_pendientes, tareas_completadas)\n",
        "        elif opcion == \"4\":\n",
        "            print(\"¡Hasta luego!\")\n",
        "            break\n",
        "        else:\n",
        "            print(\"Opción no válida. Por favor, seleccione una opción válida.\")\n",
        "\n",
        "if __name__ == \"__main__\":\n",
        "    main()"
      ]
    }
  ],
  "metadata": {
    "colab": {
      "provenance": [],
      "authorship_tag": "ABX9TyP4lfRTxjTfbPb1PzpZieKW",
      "include_colab_link": true
    },
    "kernelspec": {
      "display_name": "Python 3",
      "name": "python3"
    },
    "language_info": {
      "name": "python"
    }
  },
  "nbformat": 4,
  "nbformat_minor": 0
}